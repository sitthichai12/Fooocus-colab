{
  "cells": [
    {
      "cell_type": "markdown",
      "metadata": {
        "id": "view-in-github",
        "colab_type": "text"
      },
      "source": [
        "<a href=\"https://colab.research.google.com/github/sitthichai12/Fooocus-colab/blob/main/fooocus_colab_ver_2.ipynb\" target=\"_parent\"><img src=\"https://colab.research.google.com/assets/colab-badge.svg\" alt=\"Open In Colab\"/></a>"
      ]
    },
    {
      "cell_type": "code",
      "execution_count": null,
      "metadata": {
        "id": "VjYy0F2gZIPR"
      },
      "outputs": [],
      "source": [
        "!pip install pygit2==1.15.1\n",
        "%cd /content\n",
        "!git clone https://github.com/sitthichai12/Fooocus.git\n",
        "%cd /content/Fooocus"
      ]
    },
    {
      "cell_type": "code",
      "source": [
        "#huggingface.co checkpoints\n",
        "!wget -O /content/Fooocus/models/checkpoints/[model name].safetensors https://huggingface.co"
      ],
      "metadata": {
        "id": "k8IpZ6KtVOFd"
      },
      "execution_count": null,
      "outputs": []
    },
    {
      "cell_type": "code",
      "source": [
        "#huggingface.co lora\n",
        "!wget -O /content/Fooocus/models/loras/[model name].safetensors https://huggingface.co"
      ],
      "metadata": {
        "id": "BcrdVlw3Veis"
      },
      "execution_count": null,
      "outputs": []
    },
    {
      "cell_type": "code",
      "source": [
        "#civitai.com checkpoints\n",
        "!wget -O /content/Fooocus/models/checkpoints/[model name].safetensors https://civitai.com/"
      ],
      "metadata": {
        "id": "ldP3DQj3USzU"
      },
      "execution_count": null,
      "outputs": []
    },
    {
      "cell_type": "code",
      "source": [
        "#civitai.com loRa\n",
        "!wget -O /content/Fooocus/models/loras/[model name].safetensors https://civitai.com/"
      ],
      "metadata": {
        "id": "9UeOpk5nUZVE"
      },
      "execution_count": null,
      "outputs": []
    },
    {
      "cell_type": "code",
      "source": [
        "#auto run\n",
        "!pip install pygit2==1.15.1\n",
        "%cd /content\n",
        "!git clone https://github.com/sitthichai12/Fooocus.git\n",
        "%cd /content/Fooocus/models\n",
        "!wget -O /content/Fooocus/models/checkpoints/pixanimeCartoonAnime_v10.safetensors.safetensors https://huggingface.co/jamester12/checkpoints/resolve/main/pixanimeCartoonAnime_v10.safetensors?download=true\n",
        "!wget -O /content/Fooocus/models/checkpoints/ponyDiffusionV6XL_v6StartWithThisOne.safetensors.safetensors https://huggingface.co/jamester12/checkpoints/resolve/main/ponyDiffusionV6XL_v6StartWithThisOne.safetensors?download=true\n",
        "!wget -O /content/Fooocus/models/checkpoints/smoothMixNoobai_noobai.safetensors.safetensors https://huggingface.co/jamester12/checkpoints/resolve/main/smoothMixNoobai_noobai.safetensors?download=true\n",
        "!wget -O /content/Fooocus/models/checkpoints/waiNSFWIllustrious_v120.safetensors.safetensors https://huggingface.co/jamester12/checkpoints/resolve/main/waiNSFWIllustrious_v120.safetensors?download=true\n",
        "!git clone https://huggingface.co/jamester12/loras\n",
        "%cd /content/Fooocus"
      ],
      "metadata": {
        "id": "z7ntX6d_WO_U"
      },
      "execution_count": null,
      "outputs": []
    },
    {
      "cell_type": "code",
      "source": [
        "#Start a website\n",
        "!python entry_with_update.py --share --always-high-vram"
      ],
      "metadata": {
        "id": "FvOpvTkOUd_M"
      },
      "execution_count": null,
      "outputs": []
    }
  ],
  "metadata": {
    "accelerator": "GPU",
    "colab": {
      "gpuType": "T4",
      "provenance": [],
      "include_colab_link": true
    },
    "kernelspec": {
      "display_name": "Python 3",
      "name": "python3"
    },
    "language_info": {
      "name": "python"
    }
  },
  "nbformat": 4,
  "nbformat_minor": 0
}