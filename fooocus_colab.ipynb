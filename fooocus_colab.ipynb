{
  "cells": [
    {
      "cell_type": "markdown",
      "metadata": {
        "id": "view-in-github",
        "colab_type": "text"
      },
      "source": [
        "<a href=\"https://colab.research.google.com/github/sitthichai12/Fooocus-colab/blob/main/fooocus_colab.ipynb\" target=\"_parent\"><img src=\"https://colab.research.google.com/assets/colab-badge.svg\" alt=\"Open In Colab\"/></a>"
      ]
    },
    {
      "cell_type": "code",
      "execution_count": null,
      "metadata": {
        "id": "VjYy0F2gZIPR"
      },
      "outputs": [],
      "source": [
        "!pip install pygit2==1.15.1\n",
        "%cd /content\n",
        "!git clone https://huggingface.co/jamester12/Fooocus2.6.5\n",
        "%cd /content/Fooocus2.6.5\n",
        "!wget -O /content/Fooocus2.6.5/models/checkpoints/smoothMixNoobai_noobai.safetensors https://huggingface.co/jamester12/checkpoints/resolve/main/smoothMixNoobai_noobai.safetensors?download=true\n",
        "!wget -O /content/Fooocus2.6.5/models/checkpoints/waiNSFWIllustrious_v120.safetensors https://huggingface.co/jamester12/checkpoints/resolve/main/waiNSFWIllustrious_v120.safetensors?download=true\n",
        "!wget -O /content/Fooocus2.6.5/models/checkpoints/hassakuXLPony_v13_v120.safetensors https://huggingface.co/jamester12/checkpoints/resolve/main/hassakuXLPony_v13.safetensors?download=true"
      ]
    },
    {
      "cell_type": "code",
      "source": [
        "#huggingface.co checkpoints\n",
        "!wget -O /content/Fooocus2.6.5/models/checkpoints/[model name].safetensors https://huggingface.co"
      ],
      "metadata": {
        "id": "k8IpZ6KtVOFd"
      },
      "execution_count": null,
      "outputs": []
    },
    {
      "cell_type": "code",
      "source": [
        "#huggingface.co lora\n",
        "!wget -O /content/Fooocus2.6.5/models/loras/[model name].safetensors https://huggingface.co"
      ],
      "metadata": {
        "id": "BcrdVlw3Veis"
      },
      "execution_count": null,
      "outputs": []
    },
    {
      "cell_type": "code",
      "source": [
        "#civitai.com checkpoints\n",
        "!wget -O /content/Fooocus2.6.5/models/checkpoints/[model name].safetensors https://civitai.com/"
      ],
      "metadata": {
        "id": "ldP3DQj3USzU"
      },
      "execution_count": null,
      "outputs": []
    },
    {
      "cell_type": "code",
      "source": [
        "#civitai.com loRa\n",
        "!wget -O /content/Fooocus2.6.5/models/loras/[model name].safetensors https://civitai.com/"
      ],
      "metadata": {
        "id": "9UeOpk5nUZVE"
      },
      "execution_count": null,
      "outputs": []
    },
    {
      "cell_type": "code",
      "source": [
        "#Start a website\n",
        "!python entry_with_update.py --share --always-high-vram"
      ],
      "metadata": {
        "id": "FvOpvTkOUd_M"
      },
      "execution_count": null,
      "outputs": []
    }
  ],
  "metadata": {
    "accelerator": "GPU",
    "colab": {
      "gpuType": "T4",
      "provenance": [],
      "include_colab_link": true
    },
    "kernelspec": {
      "display_name": "Python 3",
      "name": "python3"
    },
    "language_info": {
      "name": "python"
    }
  },
  "nbformat": 4,
  "nbformat_minor": 0
}