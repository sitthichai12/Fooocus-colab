{
  "cells": [
    {
      "cell_type": "markdown",
      "metadata": {
        "id": "view-in-github",
        "colab_type": "text"
      },
      "source": [
        "<a href=\"https://colab.research.google.com/github/sitthichai12/Fooocus-colab/blob/main/fooocus_colab_ver_1.ipynb\" target=\"_parent\"><img src=\"https://colab.research.google.com/assets/colab-badge.svg\" alt=\"Open In Colab\"/></a>"
      ]
    },
    {
      "cell_type": "code",
      "execution_count": null,
      "metadata": {
        "id": "VjYy0F2gZIPR"
      },
      "outputs": [],
      "source": [
        "!pip install pygit2==1.15.1\n",
        "%cd /content\n",
        "!git clone https://github.com/lllyasviel/Fooocus.git\n",
        "%cd /content/Fooocus"
      ]
    },
    {
      "cell_type": "code",
      "source": [
        "#huggingface.co checkpoints\n",
        "!wget -O /content/Fooocus/models/checkpoints/[model name].safetensors https://huggingface.co"
      ],
      "metadata": {
        "id": "k8IpZ6KtVOFd"
      },
      "execution_count": null,
      "outputs": []
    },
    {
      "cell_type": "code",
      "source": [
        "#huggingface.co lora\n",
        "!wget -O /content/Fooocus/models/loras/[model name].safetensors https://huggingface.co"
      ],
      "metadata": {
        "id": "BcrdVlw3Veis"
      },
      "execution_count": null,
      "outputs": []
    },
    {
      "cell_type": "code",
      "source": [
        "#civitai.com checkpoints\n",
        "!wget -O /content/Fooocus/models/checkpoints/[model name].safetensors https://civitai.com/"
      ],
      "metadata": {
        "id": "ldP3DQj3USzU"
      },
      "execution_count": null,
      "outputs": []
    },
    {
      "cell_type": "code",
      "source": [
        "#civitai.com loRa\n",
        "!wget -O /content/Fooocus/models/loras/[model name].safetensors https://civitai.com/"
      ],
      "metadata": {
        "id": "9UeOpk5nUZVE"
      },
      "execution_count": null,
      "outputs": []
    },
    {
      "cell_type": "code",
      "source": [
        "#auto run\n",
        "!wget -O /content/Fooocus/models/checkpoints/WAI-NSFW-illustrious-SDXL.safetensors https://civitai.com/api/download/models/1490781?type=Model&format=SafeTensor&size=pruned&fp=fp16\n",
        "!wget -O /content/Fooocus/models/loras/AllDisneyPrincessXL.safetensors https://civitai.com/api/download/models/244808?type=Model&format=SafeTensor\n",
        "!python entry_with_update.py --share --always-high-vram"
      ],
      "metadata": {
        "id": "z7ntX6d_WO_U"
      },
      "execution_count": null,
      "outputs": []
    },
    {
      "cell_type": "code",
      "source": [
        "#Start a website\n",
        "!python entry_with_update.py --share --always-high-vram"
      ],
      "metadata": {
        "id": "FvOpvTkOUd_M"
      },
      "execution_count": null,
      "outputs": []
    }
  ],
  "metadata": {
    "accelerator": "GPU",
    "colab": {
      "gpuType": "T4",
      "provenance": [],
      "include_colab_link": true
    },
    "kernelspec": {
      "display_name": "Python 3",
      "name": "python3"
    },
    "language_info": {
      "name": "python"
    }
  },
  "nbformat": 4,
  "nbformat_minor": 0
}